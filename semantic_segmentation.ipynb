{
  "cells": [
    {
      "cell_type": "markdown",
      "metadata": {
        "id": "view-in-github",
        "colab_type": "text"
      },
      "source": [
        "<a href=\"https://colab.research.google.com/github/1948023/Semantic-Segmentation-LABIAGI/blob/main/semantic_segmentation.ipynb\" target=\"_parent\"><img src=\"https://colab.research.google.com/assets/colab-badge.svg\" alt=\"Open In Colab\"/></a>"
      ]
    },
    {
      "cell_type": "code",
      "source": [
        "from google.colab import drive\n",
        "drive.mount('/content/drive')"
      ],
      "metadata": {
        "colab": {
          "base_uri": "https://localhost:8080/"
        },
        "id": "8nWALT6ZvO2Z",
        "outputId": "becee379-1e91-4713-b735-66070634a481"
      },
      "execution_count": null,
      "outputs": [
        {
          "output_type": "stream",
          "name": "stdout",
          "text": [
            "Mounted at /content/drive\n"
          ]
        }
      ]
    },
    {
      "metadata": {
        "id": "l5i3N-weKP6-",
        "papermill": {
          "duration": 0.022866,
          "end_time": "2021-02-18T10:06:03.865074",
          "exception": false,
          "start_time": "2021-02-18T10:06:03.842208",
          "status": "completed"
        },
        "tags": []
      },
      "cell_type": "markdown",
      "source": [
        "# Import Libraries"
      ]
    },
    {
      "metadata": {
        "execution": {
          "iopub.execute_input": "2021-02-18T10:06:03.91899Z",
          "iopub.status.busy": "2021-02-18T10:06:03.918243Z",
          "iopub.status.idle": "2021-02-18T10:06:26.911381Z",
          "shell.execute_reply": "2021-02-18T10:06:26.910479Z"
        },
        "id": "kFSYoYRqJSfB",
        "papermill": {
          "duration": 23.025453,
          "end_time": "2021-02-18T10:06:26.911588",
          "exception": false,
          "start_time": "2021-02-18T10:06:03.886135",
          "status": "completed"
        },
        "tags": [],
        "trusted": true,
        "colab": {
          "base_uri": "https://localhost:8080/"
        },
        "outputId": "cc99fadb-41a1-4a1b-8b23-5bf17c2817a1"
      },
      "cell_type": "code",
      "source": [
        "import numpy as np \n",
        "import pandas as pd\n",
        "import matplotlib.pyplot as plt\n",
        "\n",
        "from sklearn.model_selection import train_test_split\n",
        "\n",
        "import torch\n",
        "import torch.nn as nn\n",
        "from torch.utils.data import Dataset, DataLoader\n",
        "from torchvision import transforms as T\n",
        "import torchvision\n",
        "import torch.nn.functional as F\n",
        "from torch.autograd import Variable\n",
        "\n",
        "from PIL import Image\n",
        "import cv2\n",
        "import albumentations as A\n",
        "\n",
        "import time\n",
        "import os\n",
        "from tqdm.notebook import tqdm\n",
        "\n",
        "!pip install -q segmentation-models-pytorch\n",
        "!pip install -q torchsummary\n",
        "\n",
        "from torchsummary import summary\n",
        "import segmentation_models_pytorch as smp\n",
        "from typing import Tuple, Dict, List\n",
        "\n",
        "\n",
        "device = torch.device(\"cuda\" if torch.cuda.is_available() else \"cpu\")"
      ],
      "execution_count": null,
      "outputs": [
        {
          "output_type": "stream",
          "name": "stdout",
          "text": [
            "\u001b[2K     \u001b[90m━━━━━━━━━━━━━━━━━━━━━━━━━━━━━━━━━━━━━━━\u001b[0m \u001b[32m106.7/106.7 kB\u001b[0m \u001b[31m5.1 MB/s\u001b[0m eta \u001b[36m0:00:00\u001b[0m\n",
            "\u001b[2K     \u001b[90m━━━━━━━━━━━━━━━━━━━━━━━━━━━━━━━━━━━━━━━━\u001b[0m \u001b[32m58.8/58.8 kB\u001b[0m \u001b[31m6.7 MB/s\u001b[0m eta \u001b[36m0:00:00\u001b[0m\n",
            "\u001b[?25h  Preparing metadata (setup.py) ... \u001b[?25l\u001b[?25hdone\n",
            "  Preparing metadata (setup.py) ... \u001b[?25l\u001b[?25hdone\n",
            "\u001b[2K     \u001b[90m━━━━━━━━━━━━━━━━━━━━━━━━━━━━━━━━━━━━━━━━\u001b[0m \u001b[32m2.2/2.2 MB\u001b[0m \u001b[31m83.3 MB/s\u001b[0m eta \u001b[36m0:00:00\u001b[0m\n",
            "\u001b[2K     \u001b[90m━━━━━━━━━━━━━━━━━━━━━━━━━━━━━━━━━━━━━━\u001b[0m \u001b[32m236.8/236.8 kB\u001b[0m \u001b[31m27.7 MB/s\u001b[0m eta \u001b[36m0:00:00\u001b[0m\n",
            "\u001b[2K     \u001b[90m━━━━━━━━━━━━━━━━━━━━━━━━━━━━━━━━━━━━━━━━\u001b[0m \u001b[32m1.3/1.3 MB\u001b[0m \u001b[31m60.4 MB/s\u001b[0m eta \u001b[36m0:00:00\u001b[0m\n",
            "\u001b[?25h  Building wheel for efficientnet-pytorch (setup.py) ... \u001b[?25l\u001b[?25hdone\n",
            "  Building wheel for pretrainedmodels (setup.py) ... \u001b[?25l\u001b[?25hdone\n"
          ]
        }
      ]
    },
    {
      "metadata": {
        "id": "1_HWVOdhJSfP",
        "papermill": {
          "duration": 0.026783,
          "end_time": "2021-02-18T10:06:26.966143",
          "exception": false,
          "start_time": "2021-02-18T10:06:26.93936",
          "status": "completed"
        },
        "tags": []
      },
      "cell_type": "markdown",
      "source": [
        "# Preprocessing"
      ]
    },
    {
      "metadata": {
        "execution": {
          "iopub.execute_input": "2021-02-18T10:06:27.026658Z",
          "iopub.status.busy": "2021-02-18T10:06:27.024925Z",
          "iopub.status.idle": "2021-02-18T10:06:27.027303Z",
          "shell.execute_reply": "2021-02-18T10:06:27.027707Z"
        },
        "papermill": {
          "duration": 0.033799,
          "end_time": "2021-02-18T10:06:27.027862",
          "exception": false,
          "start_time": "2021-02-18T10:06:26.994063",
          "status": "completed"
        },
        "tags": [],
        "trusted": true,
        "id": "vtU49dh_vL8y"
      },
      "cell_type": "code",
      "source": [
        "IMAGE_PATH = '/content/drive/MyDrive/Dataset/img/'\n",
        "MASK_PATH = '/content/drive/MyDrive/Dataset/mask/'"
      ],
      "execution_count": null,
      "outputs": []
    },
    {
      "metadata": {
        "execution": {
          "iopub.execute_input": "2021-02-18T10:06:27.086824Z",
          "iopub.status.busy": "2021-02-18T10:06:27.086238Z",
          "iopub.status.idle": "2021-02-18T10:06:27.211796Z",
          "shell.execute_reply": "2021-02-18T10:06:27.211315Z"
        },
        "id": "gmPIy2ZFJSfQ",
        "outputId": "4df6ed5a-a13c-4dd3-a43d-29d163bd6f5f",
        "papermill": {
          "duration": 0.157328,
          "end_time": "2021-02-18T10:06:27.211938",
          "exception": false,
          "start_time": "2021-02-18T10:06:27.05461",
          "status": "completed"
        },
        "tags": [],
        "trusted": true,
        "colab": {
          "base_uri": "https://localhost:8080/"
        }
      },
      "cell_type": "code",
      "source": [
        "n_classes = 9 \n",
        "\n",
        "def create_df():\n",
        "    name = []\n",
        "    for dirname, _, filenames in os.walk(IMAGE_PATH):\n",
        "        for filename in filenames:\n",
        "            name.append(filename.split('.')[0])\n",
        "    \n",
        "    return pd.DataFrame({'id': name}, index = np.arange(0, len(name)))\n",
        "\n",
        "df = create_df()\n",
        "print('Total Images: ', len(df))"
      ],
      "execution_count": null,
      "outputs": [
        {
          "output_type": "stream",
          "name": "stdout",
          "text": [
            "Total Images:  459\n"
          ]
        }
      ]
    },
    {
      "metadata": {
        "execution": {
          "iopub.execute_input": "2021-02-18T10:06:27.279329Z",
          "iopub.status.busy": "2021-02-18T10:06:27.278464Z",
          "iopub.status.idle": "2021-02-18T10:06:27.284966Z",
          "shell.execute_reply": "2021-02-18T10:06:27.284346Z"
        },
        "papermill": {
          "duration": 0.045372,
          "end_time": "2021-02-18T10:06:27.28512",
          "exception": false,
          "start_time": "2021-02-18T10:06:27.239748",
          "status": "completed"
        },
        "tags": [],
        "trusted": true,
        "colab": {
          "base_uri": "https://localhost:8080/"
        },
        "id": "t7ku6_wDvL80",
        "outputId": "cd06882d-c119-48ec-ef3d-8102824f179b"
      },
      "cell_type": "code",
      "source": [
        "#split data\n",
        "X_trainval, X_test = train_test_split(df['id'].values, test_size=0.1, random_state=19)\n",
        "X_train, X_val = train_test_split(X_trainval, test_size=0.15, random_state=19)\n",
        "\n",
        "\n",
        "print('Train Size   : ', len(X_train))\n",
        "print('Val Size     : ', len(X_val))\n",
        "print('Test Size    : ', len(X_test))"
      ],
      "execution_count": null,
      "outputs": [
        {
          "output_type": "stream",
          "name": "stdout",
          "text": [
            "Train Size   :  351\n",
            "Val Size     :  62\n",
            "Test Size    :  46\n"
          ]
        }
      ]
    },
    {
      "metadata": {
        "execution": {
          "iopub.execute_input": "2021-02-18T10:06:27.351823Z",
          "iopub.status.busy": "2021-02-18T10:06:27.351238Z",
          "iopub.status.idle": "2021-02-18T10:06:31.594465Z",
          "shell.execute_reply": "2021-02-18T10:06:31.594948Z"
        },
        "id": "-uXF6vetJSff",
        "outputId": "a29629c1-a15f-48ad-f96a-2f9d43407e0f",
        "papermill": {
          "duration": 4.280771,
          "end_time": "2021-02-18T10:06:31.595115",
          "exception": false,
          "start_time": "2021-02-18T10:06:27.314344",
          "status": "completed"
        },
        "tags": [],
        "trusted": true,
        "colab": {
          "base_uri": "https://localhost:8080/",
          "height": 504
        }
      },
      "cell_type": "code",
      "source": [
        "img = Image.open(IMAGE_PATH + df['id'][100] + '.png')\n",
        "mask = Image.open(MASK_PATH + df['id'][100] + '.png')\n",
        "print('Image',IMAGE_PATH + df['id'][100] + '.png')\n",
        "print('Image Size', np.asarray(img).shape)\n",
        "print('Mask Size', np.asarray(mask).shape)\n",
        "\n",
        "\n",
        "plt.imshow(img)\n",
        "plt.imshow(mask, alpha=0.6)\n",
        "plt.title('Picture with Mask Appplied')\n",
        "plt.show()"
      ],
      "execution_count": null,
      "outputs": [
        {
          "output_type": "stream",
          "name": "stdout",
          "text": [
            "Image /content/drive/MyDrive/Dataset/img/Cropped_Img95.png\n",
            "Image Size (512, 512, 3)\n",
            "Mask Size (512, 512, 3)\n"
          ]
        },
        {
          "output_type": "display_data",
          "data": {
            "text/plain": [
              "<Figure size 640x480 with 1 Axes>"
            ],
            "image/png": "[encoded data removed]"
          },
          "metadata": {}
        }
      ]
    },
    {
      "metadata": {
        "id": "dkjFEoe7JSfo",
        "papermill": {
          "duration": 0.030107,
          "end_time": "2021-02-18T10:06:31.656378",
          "exception": false,
          "start_time": "2021-02-18T10:06:31.626271",
          "status": "completed"
        },
        "tags": []
      },
      "cell_type": "markdown",
      "source": [
        "# Dataset"
      ]
    },
    {
      "cell_type": "code",
      "source": [
        "labels = {'Powerline':0,\n",
        "          'Low vegetation':1,\n",
        "          'Impervious surfaces':2,\n",
        "          'Car':3,\n",
        "          'Fence/Hedge':4,\n",
        "          'Roof':5,\n",
        "          'Facade':6,\n",
        "          'Shrub':7,\n",
        "          'Tree':8\n",
        "          }"
      ],
      "metadata": {
        "id": "J2_70C8HZXpS"
      },
      "execution_count": null,
      "outputs": []
    },
    {
      "metadata": {
        "execution": {
          "iopub.execute_input": "2021-02-18T10:06:31.731486Z",
          "iopub.status.busy": "2021-02-18T10:06:31.729694Z",
          "iopub.status.idle": "2021-02-18T10:06:31.732068Z",
          "shell.execute_reply": "2021-02-18T10:06:31.732468Z"
        },
        "id": "yne-vteuJSfp",
        "papermill": {
          "duration": 0.045449,
          "end_time": "2021-02-18T10:06:31.732603",
          "exception": false,
          "start_time": "2021-02-18T10:06:31.687154",
          "status": "completed"
        },
        "tags": [],
        "trusted": true
      },
      "cell_type": "code",
      "source": [
        "class DroneDataset(Dataset):\n",
        "    \n",
        "    def __init__(self, img_path, mask_path, X, mean, std, transform=None):\n",
        "        self.img_path = img_path\n",
        "        self.mask_path = mask_path\n",
        "        self.X = X\n",
        "        self.transform = transform\n",
        "        self.mean = mean\n",
        "        self.std = std\n",
        "        \n",
        "    def __len__(self):\n",
        "        return len(self.X)\n",
        "    \n",
        "    def __getitem__(self, idx):\n",
        "        img = cv2.imread(self.img_path + self.X[idx] + '.png')\n",
        "        #img = cv2.cvtColor(img, cv2.COLOR_BGR2RGB)\n",
        "        mask = cv2.imread(self.mask_path + self.X[idx] + '.png', cv2.IMREAD_GRAYSCALE)\n",
        "        #print(img.shape)\n",
        "        #print(mask.shape)\n",
        "        #print(type(img))\n",
        "        #print(type(mask))\n",
        "        \n",
        "        \n",
        "        img = Image.fromarray(img)\n",
        "        \n",
        "        t = T.Compose([T.ToTensor(), T.Normalize(self.mean, self.std)])\n",
        "        img = t(img)\n",
        "        mask = np.array(self.mask[idx])\n",
        "        \n",
        "        \n",
        "            \n",
        "        return img, mask"
      ],
      "execution_count": null,
      "outputs": []
    },
    {
      "metadata": {
        "execution": {
          "iopub.execute_input": "2021-02-18T10:06:31.80077Z",
          "iopub.status.busy": "2021-02-18T10:06:31.80021Z",
          "iopub.status.idle": "2021-02-18T10:06:31.804278Z",
          "shell.execute_reply": "2021-02-18T10:06:31.803849Z"
        },
        "id": "CCL93_giJSft",
        "papermill": {
          "duration": 0.041706,
          "end_time": "2021-02-18T10:06:31.80439",
          "exception": false,
          "start_time": "2021-02-18T10:06:31.762684",
          "status": "completed"
        },
        "tags": [],
        "trusted": true
      },
      "cell_type": "code",
      "source": [
        "mean=[0.485, 0.456, 0.406]\n",
        "std=[0.229, 0.224, 0.225]\n",
        "\n",
        "t_train = A.Compose([A.HorizontalFlip(), A.VerticalFlip(), A.RandomRotate90(),\n",
        "                     A.RandomBrightnessContrast((0,0.5),(0,0.5)),\n",
        "                     A.GaussNoise()])\n",
        "\n",
        "\n",
        "#datasets\n",
        "train_set = DroneDataset(IMAGE_PATH, MASK_PATH, X_train, mean, std, t_train)\n",
        "val_set = DroneDataset(IMAGE_PATH, MASK_PATH, X_val, mean, std)\n",
        "\n",
        "#dataloader\n",
        "batch_size= 3 \n",
        "\n",
        "train_loader = DataLoader(train_set, batch_size=batch_size, shuffle=True)\n",
        "val_loader = DataLoader(val_set, batch_size=batch_size, shuffle=True)            "
      ],
      "execution_count": null,
      "outputs": []
    },
    {
      "metadata": {
        "id": "jJ-ZypiFJSgJ",
        "papermill": {
          "duration": 0.029797,
          "end_time": "2021-02-18T10:06:31.864199",
          "exception": false,
          "start_time": "2021-02-18T10:06:31.834402",
          "status": "completed"
        },
        "tags": []
      },
      "cell_type": "markdown",
      "source": [
        "# Model"
      ]
    },
    {
      "metadata": {
        "execution": {
          "iopub.execute_input": "2021-02-18T10:06:31.930374Z",
          "iopub.status.busy": "2021-02-18T10:06:31.929553Z",
          "iopub.status.idle": "2021-02-18T10:06:32.532256Z",
          "shell.execute_reply": "2021-02-18T10:06:32.5317Z"
        },
        "id": "ZXb8nBmpJSgK",
        "papermill": {
          "duration": 0.637787,
          "end_time": "2021-02-18T10:06:32.532384",
          "exception": false,
          "start_time": "2021-02-18T10:06:31.894597",
          "status": "completed"
        },
        "tags": [],
        "trusted": true,
        "colab": {
          "base_uri": "https://localhost:8080/"
        },
        "outputId": "92913e55-385d-479d-ec30-48c192fab095"
      },
      "cell_type": "code",
      "source": [
        "model = smp.Unet('mobilenet_v2', encoder_weights='imagenet', classes=9, activation=None, encoder_depth=5, decoder_channels=[512, 256, 128, 64, 32])"
      ],
      "execution_count": null,
      "outputs": [
        {
          "output_type": "stream",
          "name": "stderr",
          "text": [
            "Downloading: \"https://download.pytorch.org/models/mobilenet_v2-b0353104.pth\" to /root/.cache/torch/hub/checkpoints/mobilenet_v2-b0353104.pth\n",
            "100%|██████████| 13.6M/13.6M [00:00<00:00, 102MB/s]\n"
          ]
        }
      ]
    },
    {
      "metadata": {
        "execution": {
          "iopub.execute_input": "2021-02-18T10:06:32.60428Z",
          "iopub.status.busy": "2021-02-18T10:06:32.602994Z",
          "iopub.status.idle": "2021-02-18T10:06:32.606962Z",
          "shell.execute_reply": "2021-02-18T10:06:32.607359Z"
        },
        "id": "32nY_jBWJSgN",
        "papermill": {
          "duration": 0.043393,
          "end_time": "2021-02-18T10:06:32.607492",
          "exception": false,
          "start_time": "2021-02-18T10:06:32.564099",
          "status": "completed"
        },
        "tags": [],
        "trusted": true,
        "colab": {
          "base_uri": "https://localhost:8080/"
        },
        "outputId": "002d18a6-6959-4e22-eb4e-91d2b7b4dc8c"
      },
      "cell_type": "code",
      "source": [
        "model"
      ],
      "execution_count": null,
      "outputs": [
        {
          "output_type": "execute_result",
          "data": {
            "text/plain": [
              "Unet(\n",
              "  (encoder): MobileNetV2Encoder(\n",
              "    (features): Sequential(\n",
              "      (0): Conv2dNormActivation(\n",
              "        (0): Conv2d(3, 32, kernel_size=(3, 3), stride=(2, 2), padding=(1, 1), bias=False)\n",
              "        (1): BatchNorm2d(32, eps=1e-05, momentum=0.1, affine=True, track_running_stats=True)\n",
              "        (2): ReLU6(inplace=True)\n",
              "      )\n",
              "      (1): InvertedResidual(\n",
              "        (conv): Sequential(\n",
              "          (0): Conv2dNormActivation(\n",
              "            (0): Conv2d(32, 32, kernel_size=(3, 3), stride=(1, 1), padding=(1, 1), groups=32, bias=False)\n",
              "            (1): BatchNorm2d(32, eps=1e-05, momentum=0.1, affine=True, track_running_stats=True)\n",
              "            (2): ReLU6(inplace=True)\n",
              "          )\n",
              "          (1): Conv2d(32, 16, kernel_size=(1, 1), stride=(1, 1), bias=False)\n",
              "          (2): BatchNorm2d(16, eps=1e-05, momentum=0.1, affine=True, track_running_stats=True)\n",
              "        )\n",
              "      )\n",
              "      (2): InvertedResidual(\n",
              "        (conv): Sequential(\n",
              "          (0): Conv2dNormActivation(\n",
              "            (0): Conv2d(16, 96, kernel_size=(1, 1), stride=(1, 1), bias=False)\n",
              "            (1): BatchNorm2d(96, eps=1e-05, momentum=0.1, affine=True, track_running_stats=True)\n",
              "            (2): ReLU6(inplace=True)\n",
              "          )\n",
              "          (1): Conv2dNormActivation(\n",
              "            (0): Conv2d(96, 96, kernel_size=(3, 3), stride=(2, 2), padding=(1, 1), groups=96, bias=False)\n",
              "            (1): BatchNorm2d(96, eps=1e-05, momentum=0.1, affine=True, track_running_stats=True)\n",
              "            (2): ReLU6(inplace=True)\n",
              "          )\n",
              "          (2): Conv2d(96, 24, kernel_size=(1, 1), stride=(1, 1), bias=False)\n",
              "          (3): BatchNorm2d(24, eps=1e-05, momentum=0.1, affine=True, track_running_stats=True)\n",
              "        )\n",
              "      )\n",
              "      (3): InvertedResidual(\n",
              "        (conv): Sequential(\n",
              "          (0): Conv2dNormActivation(\n",
              "            (0): Conv2d(24, 144, kernel_size=(1, 1), stride=(1, 1), bias=False)\n",
              "            (1): BatchNorm2d(144, eps=1e-05, momentum=0.1, affine=True, track_running_stats=True)\n",
              "            (2): ReLU6(inplace=True)\n",
              "          )\n",
              "          (1): Conv2dNormActivation(\n",
              "            (0): Conv2d(144, 144, kernel_size=(3, 3), stride=(1, 1), padding=(1, 1), groups=144, bias=False)\n",
              "            (1): BatchNorm2d(144, eps=1e-05, momentum=0.1, affine=True, track_running_stats=True)\n",
              "            (2): ReLU6(inplace=True)\n",
              "          )\n",
              "          (2): Conv2d(144, 24, kernel_size=(1, 1), stride=(1, 1), bias=False)\n",
              "          (3): BatchNorm2d(24, eps=1e-05, momentum=0.1, affine=True, track_running_stats=True)\n",
              "        )\n",
              "      )\n",
              "      (4): InvertedResidual(\n",
              "        (conv): Sequential(\n",
              "          (0): Conv2dNormActivation(\n",
              "            (0): Conv2d(24, 144, kernel_size=(1, 1), stride=(1, 1), bias=False)\n",
              "            (1): BatchNorm2d(144, eps=1e-05, momentum=0.1, affine=True, track_running_stats=True)\n",
              "            (2): ReLU6(inplace=True)\n",
              "          )\n",
              "          (1): Conv2dNormActivation(\n",
              "            (0): Conv2d(144, 144, kernel_size=(3, 3), stride=(2, 2), padding=(1, 1), groups=144, bias=False)\n",
              "            (1): BatchNorm2d(144, eps=1e-05, momentum=0.1, affine=True, track_running_stats=True)\n",
              "            (2): ReLU6(inplace=True)\n",
              "          )\n",
              "          (2): Conv2d(144, 32, kernel_size=(1, 1), stride=(1, 1), bias=False)\n",
              "          (3): BatchNorm2d(32, eps=1e-05, momentum=0.1, affine=True, track_running_stats=True)\n",
              "        )\n",
              "      )\n",
              "      (5): InvertedResidual(\n",
              "        (conv): Sequential(\n",
              "          (0): Conv2dNormActivation(\n",
              "            (0): Conv2d(32, 192, kernel_size=(1, 1), stride=(1, 1), bias=False)\n",
              "            (1): BatchNorm2d(192, eps=1e-05, momentum=0.1, affine=True, track_running_stats=True)\n",
              "            (2): ReLU6(inplace=True)\n",
              "          )\n",
              "          (1): Conv2dNormActivation(\n",
              "            (0): Conv2d(192, 192, kernel_size=(3, 3), stride=(1, 1), padding=(1, 1), groups=192, bias=False)\n",
              "            (1): BatchNorm2d(192, eps=1e-05, momentum=0.1, affine=True, track_running_stats=True)\n",
              "            (2): ReLU6(inplace=True)\n",
              "          )\n",
              "          (2): Conv2d(192, 32, kernel_size=(1, 1), stride=(1, 1), bias=False)\n",
              "          (3): BatchNorm2d(32, eps=1e-05, momentum=0.1, affine=True, track_running_stats=True)\n",
              "        )\n",
              "      )\n",
              "      (6): InvertedResidual(\n",
              "        (conv): Sequential(\n",
              "          (0): Conv2dNormActivation(\n",
              "            (0): Conv2d(32, 192, kernel_size=(1, 1), stride=(1, 1), bias=False)\n",
              "            (1): BatchNorm2d(192, eps=1e-05, momentum=0.1, affine=True, track_running_stats=True)\n",
              "            (2): ReLU6(inplace=True)\n",
              "          )\n",
              "          (1): Conv2dNormActivation(\n",
              "            (0): Conv2d(192, 192, kernel_size=(3, 3), stride=(1, 1), padding=(1, 1), groups=192, bias=False)\n",
              "            (1): BatchNorm2d(192, eps=1e-05, momentum=0.1, affine=True, track_running_stats=True)\n",
              "            (2): ReLU6(inplace=True)\n",
              "          )\n",
              "          (2): Conv2d(192, 32, kernel_size=(1, 1), stride=(1, 1), bias=False)\n",
              "          (3): BatchNorm2d(32, eps=1e-05, momentum=0.1, affine=True, track_running_stats=True)\n",
              "        )\n",
              "      )\n",
              "      (7): InvertedResidual(\n",
              "        (conv): Sequential(\n",
              "          (0): Conv2dNormActivation(\n",
              "            (0): Conv2d(32, 192, kernel_size=(1, 1), stride=(1, 1), bias=False)\n",
              "            (1): BatchNorm2d(192, eps=1e-05, momentum=0.1, affine=True, track_running_stats=True)\n",
              "            (2): ReLU6(inplace=True)\n",
              "          )\n",
              "          (1): Conv2dNormActivation(\n",
              "            (0): Conv2d(192, 192, kernel_size=(3, 3), stride=(2, 2), padding=(1, 1), groups=192, bias=False)\n",
              "            (1): BatchNorm2d(192, eps=1e-05, momentum=0.1, affine=True, track_running_stats=True)\n",
              "            (2): ReLU6(inplace=True)\n",
              "          )\n",
              "          (2): Conv2d(192, 64, kernel_size=(1, 1), stride=(1, 1), bias=False)\n",
              "          (3): BatchNorm2d(64, eps=1e-05, momentum=0.1, affine=True, track_running_stats=True)\n",
              "        )\n",
              "      )\n",
              "      (8): InvertedResidual(\n",
              "        (conv): Sequential(\n",
              "          (0): Conv2dNormActivation(\n",
              "            (0): Conv2d(64, 384, kernel_size=(1, 1), stride=(1, 1), bias=False)\n",
              "            (1): BatchNorm2d(384, eps=1e-05, momentum=0.1, affine=True, track_running_stats=True)\n",
              "            (2): ReLU6(inplace=True)\n",
              "          )\n",
              "          (1): Conv2dNormActivation(\n",
              "            (0): Conv2d(384, 384, kernel_size=(3, 3), stride=(1, 1), padding=(1, 1), groups=384, bias=False)\n",
              "            (1): BatchNorm2d(384, eps=1e-05, momentum=0.1, affine=True, track_running_stats=True)\n",
              "            (2): ReLU6(inplace=True)\n",
              "          )\n",
              "          (2): Conv2d(384, 64, kernel_size=(1, 1), stride=(1, 1), bias=False)\n",
              "          (3): BatchNorm2d(64, eps=1e-05, momentum=0.1, affine=True, track_running_stats=True)\n",
              "        )\n",
              "      )\n",
              "      (9): InvertedResidual(\n",
              "        (conv): Sequential(\n",
              "          (0): Conv2dNormActivation(\n",
              "            (0): Conv2d(64, 384, kernel_size=(1, 1), stride=(1, 1), bias=False)\n",
              "            (1): BatchNorm2d(384, eps=1e-05, momentum=0.1, affine=True, track_running_stats=True)\n",
              "            (2): ReLU6(inplace=True)\n",
              "          )\n",
              "          (1): Conv2dNormActivation(\n",
              "            (0): Conv2d(384, 384, kernel_size=(3, 3), stride=(1, 1), padding=(1, 1), groups=384, bias=False)\n",
              "            (1): BatchNorm2d(384, eps=1e-05, momentum=0.1, affine=True, track_running_stats=True)\n",
              "            (2): ReLU6(inplace=True)\n",
              "          )\n",
              "          (2): Conv2d(384, 64, kernel_size=(1, 1), stride=(1, 1), bias=False)\n",
              "          (3): BatchNorm2d(64, eps=1e-05, momentum=0.1, affine=True, track_running_stats=True)\n",
              "        )\n",
              "      )\n",
              "      (10): InvertedResidual(\n",
              "        (conv): Sequential(\n",
              "          (0): Conv2dNormActivation(\n",
              "            (0): Conv2d(64, 384, kernel_size=(1, 1), stride=(1, 1), bias=False)\n",
              "            (1): BatchNorm2d(384, eps=1e-05, momentum=0.1, affine=True, track_running_stats=True)\n",
              "            (2): ReLU6(inplace=True)\n",
              "          )\n",
              "          (1): Conv2dNormActivation(\n",
              "            (0): Conv2d(384, 384, kernel_size=(3, 3), stride=(1, 1), padding=(1, 1), groups=384, bias=False)\n",
              "            (1): BatchNorm2d(384, eps=1e-05, momentum=0.1, affine=True, track_running_stats=True)\n",
              "            (2): ReLU6(inplace=True)\n",
              "          )\n",
              "          (2): Conv2d(384, 64, kernel_size=(1, 1), stride=(1, 1), bias=False)\n",
              "          (3): BatchNorm2d(64, eps=1e-05, momentum=0.1, affine=True, track_running_stats=True)\n",
              "        )\n",
              "      )\n",
              "      (11): InvertedResidual(\n",
              "        (conv): Sequential(\n",
              "          (0): Conv2dNormActivation(\n",
              "            (0): Conv2d(64, 384, kernel_size=(1, 1), stride=(1, 1), bias=False)\n",
              "            (1): BatchNorm2d(384, eps=1e-05, momentum=0.1, affine=True, track_running_stats=True)\n",
              "            (2): ReLU6(inplace=True)\n",
              "          )\n",
              "          (1): Conv2dNormActivation(\n",
              "            (0): Conv2d(384, 384, kernel_size=(3, 3), stride=(1, 1), padding=(1, 1), groups=384, bias=False)\n",
              "            (1): BatchNorm2d(384, eps=1e-05, momentum=0.1, affine=True, track_running_stats=True)\n",
              "            (2): ReLU6(inplace=True)\n",
              "          )\n",
              "          (2): Conv2d(384, 96, kernel_size=(1, 1), stride=(1, 1), bias=False)\n",
              "          (3): BatchNorm2d(96, eps=1e-05, momentum=0.1, affine=True, track_running_stats=True)\n",
              "        )\n",
              "      )\n",
              "      (12): InvertedResidual(\n",
              "        (conv): Sequential(\n",
              "          (0): Conv2dNormActivation(\n",
              "            (0): Conv2d(96, 576, kernel_size=(1, 1), stride=(1, 1), bias=False)\n",
              "            (1): BatchNorm2d(576, eps=1e-05, momentum=0.1, affine=True, track_running_stats=True)\n",
              "            (2): ReLU6(inplace=True)\n",
              "          )\n",
              "          (1): Conv2dNormActivation(\n",
              "            (0): Conv2d(576, 576, kernel_size=(3, 3), stride=(1, 1), padding=(1, 1), groups=576, bias=False)\n",
              "            (1): BatchNorm2d(576, eps=1e-05, momentum=0.1, affine=True, track_running_stats=True)\n",
              "            (2): ReLU6(inplace=True)\n",
              "          )\n",
              "          (2): Conv2d(576, 96, kernel_size=(1, 1), stride=(1, 1), bias=False)\n",
              "          (3): BatchNorm2d(96, eps=1e-05, momentum=0.1, affine=True, track_running_stats=True)\n",
              "        )\n",
              "      )\n",
              "      (13): InvertedResidual(\n",
              "        (conv): Sequential(\n",
              "          (0): Conv2dNormActivation(\n",
              "            (0): Conv2d(96, 576, kernel_size=(1, 1), stride=(1, 1), bias=False)\n",
              "            (1): BatchNorm2d(576, eps=1e-05, momentum=0.1, affine=True, track_running_stats=True)\n",
              "            (2): ReLU6(inplace=True)\n",
              "          )\n",
              "          (1): Conv2dNormActivation(\n",
              "            (0): Conv2d(576, 576, kernel_size=(3, 3), stride=(1, 1), padding=(1, 1), groups=576, bias=False)\n",
              "            (1): BatchNorm2d(576, eps=1e-05, momentum=0.1, affine=True, track_running_stats=True)\n",
              "            (2): ReLU6(inplace=True)\n",
              "          )\n",
              "          (2): Conv2d(576, 96, kernel_size=(1, 1), stride=(1, 1), bias=False)\n",
              "          (3): BatchNorm2d(96, eps=1e-05, momentum=0.1, affine=True, track_running_stats=True)\n",
              "        )\n",
              "      )\n",
              "      (14): InvertedResidual(\n",
              "        (conv): Sequential(\n",
              "          (0): Conv2dNormActivation(\n",
              "            (0): Conv2d(96, 576, kernel_size=(1, 1), stride=(1, 1), bias=False)\n",
              "            (1): BatchNorm2d(576, eps=1e-05, momentum=0.1, affine=True, track_running_stats=True)\n",
              "            (2): ReLU6(inplace=True)\n",
              "          )\n",
              "          (1): Conv2dNormActivation(\n",
              "            (0): Conv2d(576, 576, kernel_size=(3, 3), stride=(2, 2), padding=(1, 1), groups=576, bias=False)\n",
              "            (1): BatchNorm2d(576, eps=1e-05, momentum=0.1, affine=True, track_running_stats=True)\n",
              "            (2): ReLU6(inplace=True)\n",
              "          )\n",
              "          (2): Conv2d(576, 160, kernel_size=(1, 1), stride=(1, 1), bias=False)\n",
              "          (3): BatchNorm2d(160, eps=1e-05, momentum=0.1, affine=True, track_running_stats=True)\n",
              "        )\n",
              "      )\n",
              "      (15): InvertedResidual(\n",
              "        (conv): Sequential(\n",
              "          (0): Conv2dNormActivation(\n",
              "            (0): Conv2d(160, 960, kernel_size=(1, 1), stride=(1, 1), bias=False)\n",
              "            (1): BatchNorm2d(960, eps=1e-05, momentum=0.1, affine=True, track_running_stats=True)\n",
              "            (2): ReLU6(inplace=True)\n",
              "          )\n",
              "          (1): Conv2dNormActivation(\n",
              "            (0): Conv2d(960, 960, kernel_size=(3, 3), stride=(1, 1), padding=(1, 1), groups=960, bias=False)\n",
              "            (1): BatchNorm2d(960, eps=1e-05, momentum=0.1, affine=True, track_running_stats=True)\n",
              "            (2): ReLU6(inplace=True)\n",
              "          )\n",
              "          (2): Conv2d(960, 160, kernel_size=(1, 1), stride=(1, 1), bias=False)\n",
              "          (3): BatchNorm2d(160, eps=1e-05, momentum=0.1, affine=True, track_running_stats=True)\n",
              "        )\n",
              "      )\n",
              "      (16): InvertedResidual(\n",
              "        (conv): Sequential(\n",
              "          (0): Conv2dNormActivation(\n",
              "            (0): Conv2d(160, 960, kernel_size=(1, 1), stride=(1, 1), bias=False)\n",
              "            (1): BatchNorm2d(960, eps=1e-05, momentum=0.1, affine=True, track_running_stats=True)\n",
              "            (2): ReLU6(inplace=True)\n",
              "          )\n",
              "          (1): Conv2dNormActivation(\n",
              "            (0): Conv2d(960, 960, kernel_size=(3, 3), stride=(1, 1), padding=(1, 1), groups=960, bias=False)\n",
              "            (1): BatchNorm2d(960, eps=1e-05, momentum=0.1, affine=True, track_running_stats=True)\n",
              "            (2): ReLU6(inplace=True)\n",
              "          )\n",
              "          (2): Conv2d(960, 160, kernel_size=(1, 1), stride=(1, 1), bias=False)\n",
              "          (3): BatchNorm2d(160, eps=1e-05, momentum=0.1, affine=True, track_running_stats=True)\n",
              "        )\n",
              "      )\n",
              "      (17): InvertedResidual(\n",
              "        (conv): Sequential(\n",
              "          (0): Conv2dNormActivation(\n",
              "            (0): Conv2d(160, 960, kernel_size=(1, 1), stride=(1, 1), bias=False)\n",
              "            (1): BatchNorm2d(960, eps=1e-05, momentum=0.1, affine=True, track_running_stats=True)\n",
              "            (2): ReLU6(inplace=True)\n",
              "          )\n",
              "          (1): Conv2dNormActivation(\n",
              "            (0): Conv2d(960, 960, kernel_size=(3, 3), stride=(1, 1), padding=(1, 1), groups=960, bias=False)\n",
              "            (1): BatchNorm2d(960, eps=1e-05, momentum=0.1, affine=True, track_running_stats=True)\n",
              "            (2): ReLU6(inplace=True)\n",
              "          )\n",
              "          (2): Conv2d(960, 320, kernel_size=(1, 1), stride=(1, 1), bias=False)\n",
              "          (3): BatchNorm2d(320, eps=1e-05, momentum=0.1, affine=True, track_running_stats=True)\n",
              "        )\n",
              "      )\n",
              "      (18): Conv2dNormActivation(\n",
              "        (0): Conv2d(320, 1280, kernel_size=(1, 1), stride=(1, 1), bias=False)\n",
              "        (1): BatchNorm2d(1280, eps=1e-05, momentum=0.1, affine=True, track_running_stats=True)\n",
              "        (2): ReLU6(inplace=True)\n",
              "      )\n",
              "    )\n",
              "  )\n",
              "  (decoder): UnetDecoder(\n",
              "    (center): Identity()\n",
              "    (blocks): ModuleList(\n",
              "      (0): DecoderBlock(\n",
              "        (conv1): Conv2dReLU(\n",
              "          (0): Conv2d(1376, 512, kernel_size=(3, 3), stride=(1, 1), padding=(1, 1), bias=False)\n",
              "          (1): BatchNorm2d(512, eps=1e-05, momentum=0.1, affine=True, track_running_stats=True)\n",
              "          (2): ReLU(inplace=True)\n",
              "        )\n",
              "        (attention1): Attention(\n",
              "          (attention): Identity()\n",
              "        )\n",
              "        (conv2): Conv2dReLU(\n",
              "          (0): Conv2d(512, 512, kernel_size=(3, 3), stride=(1, 1), padding=(1, 1), bias=False)\n",
              "          (1): BatchNorm2d(512, eps=1e-05, momentum=0.1, affine=True, track_running_stats=True)\n",
              "          (2): ReLU(inplace=True)\n",
              "        )\n",
              "        (attention2): Attention(\n",
              "          (attention): Identity()\n",
              "        )\n",
              "      )\n",
              "      (1): DecoderBlock(\n",
              "        (conv1): Conv2dReLU(\n",
              "          (0): Conv2d(544, 256, kernel_size=(3, 3), stride=(1, 1), padding=(1, 1), bias=False)\n",
              "          (1): BatchNorm2d(256, eps=1e-05, momentum=0.1, affine=True, track_running_stats=True)\n",
              "          (2): ReLU(inplace=True)\n",
              "        )\n",
              "        (attention1): Attention(\n",
              "          (attention): Identity()\n",
              "        )\n",
              "        (conv2): Conv2dReLU(\n",
              "          (0): Conv2d(256, 256, kernel_size=(3, 3), stride=(1, 1), padding=(1, 1), bias=False)\n",
              "          (1): BatchNorm2d(256, eps=1e-05, momentum=0.1, affine=True, track_running_stats=True)\n",
              "          (2): ReLU(inplace=True)\n",
              "        )\n",
              "        (attention2): Attention(\n",
              "          (attention): Identity()\n",
              "        )\n",
              "      )\n",
              "      (2): DecoderBlock(\n",
              "        (conv1): Conv2dReLU(\n",
              "          (0): Conv2d(280, 128, kernel_size=(3, 3), stride=(1, 1), padding=(1, 1), bias=False)\n",
              "          (1): BatchNorm2d(128, eps=1e-05, momentum=0.1, affine=True, track_running_stats=True)\n",
              "          (2): ReLU(inplace=True)\n",
              "        )\n",
              "        (attention1): Attention(\n",
              "          (attention): Identity()\n",
              "        )\n",
              "        (conv2): Conv2dReLU(\n",
              "          (0): Conv2d(128, 128, kernel_size=(3, 3), stride=(1, 1), padding=(1, 1), bias=False)\n",
              "          (1): BatchNorm2d(128, eps=1e-05, momentum=0.1, affine=True, track_running_stats=True)\n",
              "          (2): ReLU(inplace=True)\n",
              "        )\n",
              "        (attention2): Attention(\n",
              "          (attention): Identity()\n",
              "        )\n",
              "      )\n",
              "      (3): DecoderBlock(\n",
              "        (conv1): Conv2dReLU(\n",
              "          (0): Conv2d(144, 64, kernel_size=(3, 3), stride=(1, 1), padding=(1, 1), bias=False)\n",
              "          (1): BatchNorm2d(64, eps=1e-05, momentum=0.1, affine=True, track_running_stats=True)\n",
              "          (2): ReLU(inplace=True)\n",
              "        )\n",
              "        (attention1): Attention(\n",
              "          (attention): Identity()\n",
              "        )\n",
              "        (conv2): Conv2dReLU(\n",
              "          (0): Conv2d(64, 64, kernel_size=(3, 3), stride=(1, 1), padding=(1, 1), bias=False)\n",
              "          (1): BatchNorm2d(64, eps=1e-05, momentum=0.1, affine=True, track_running_stats=True)\n",
              "          (2): ReLU(inplace=True)\n",
              "        )\n",
              "        (attention2): Attention(\n",
              "          (attention): Identity()\n",
              "        )\n",
              "      )\n",
              "      (4): DecoderBlock(\n",
              "        (conv1): Conv2dReLU(\n",
              "          (0): Conv2d(64, 32, kernel_size=(3, 3), stride=(1, 1), padding=(1, 1), bias=False)\n",
              "          (1): BatchNorm2d(32, eps=1e-05, momentum=0.1, affine=True, track_running_stats=True)\n",
              "          (2): ReLU(inplace=True)\n",
              "        )\n",
              "        (attention1): Attention(\n",
              "          (attention): Identity()\n",
              "        )\n",
              "        (conv2): Conv2dReLU(\n",
              "          (0): Conv2d(32, 32, kernel_size=(3, 3), stride=(1, 1), padding=(1, 1), bias=False)\n",
              "          (1): BatchNorm2d(32, eps=1e-05, momentum=0.1, affine=True, track_running_stats=True)\n",
              "          (2): ReLU(inplace=True)\n",
              "        )\n",
              "        (attention2): Attention(\n",
              "          (attention): Identity()\n",
              "        )\n",
              "      )\n",
              "    )\n",
              "  )\n",
              "  (segmentation_head): SegmentationHead(\n",
              "    (0): Conv2d(32, 9, kernel_size=(3, 3), stride=(1, 1), padding=(1, 1))\n",
              "    (1): Identity()\n",
              "    (2): Activation(\n",
              "      (activation): Identity()\n",
              "    )\n",
              "  )\n",
              ")"
            ]
          },
          "metadata": {},
          "execution_count": 11
        }
      ]
    },
    {
      "metadata": {
        "id": "ncudHa0UJSgQ",
        "papermill": {
          "duration": 0.031715,
          "end_time": "2021-02-18T10:06:32.670851",
          "exception": false,
          "start_time": "2021-02-18T10:06:32.639136",
          "status": "completed"
        },
        "tags": []
      },
      "cell_type": "markdown",
      "source": [
        "# Training"
      ]
    },
    {
      "metadata": {
        "execution": {
          "iopub.execute_input": "2021-02-18T10:06:32.740402Z",
          "iopub.status.busy": "2021-02-18T10:06:32.739666Z",
          "iopub.status.idle": "2021-02-18T10:06:32.742805Z",
          "shell.execute_reply": "2021-02-18T10:06:32.742209Z"
        },
        "papermill": {
          "duration": 0.039711,
          "end_time": "2021-02-18T10:06:32.742919",
          "exception": false,
          "start_time": "2021-02-18T10:06:32.703208",
          "status": "completed"
        },
        "tags": [],
        "trusted": true,
        "id": "EXT0HTMsvL83"
      },
      "cell_type": "code",
      "source": [
        "def pixel_accuracy(output, mask):\n",
        "    with torch.no_grad():\n",
        "        output = torch.argmax(F.softmax(output, dim=1), dim=1)\n",
        "        correct = torch.eq(output, mask).int()\n",
        "        accuracy = float(correct.sum()) / float(correct.numel())\n",
        "    return accuracy"
      ],
      "execution_count": null,
      "outputs": []
    },
    {
      "metadata": {
        "execution": {
          "iopub.execute_input": "2021-02-18T10:06:32.824646Z",
          "iopub.status.busy": "2021-02-18T10:06:32.823648Z",
          "iopub.status.idle": "2021-02-18T10:06:32.826286Z",
          "shell.execute_reply": "2021-02-18T10:06:32.826674Z"
        },
        "id": "5cqfcLtOJSgS",
        "papermill": {
          "duration": 0.048322,
          "end_time": "2021-02-18T10:06:32.826838",
          "exception": false,
          "start_time": "2021-02-18T10:06:32.778516",
          "status": "completed"
        },
        "tags": [],
        "trusted": true
      },
      "cell_type": "code",
      "source": [
        "def mIoU(pred_mask, mask, smooth=1e-10, n_classes=9):\n",
        "    with torch.no_grad():\n",
        "        pred_mask = F.softmax(pred_mask, dim=1)\n",
        "        pred_mask = torch.argmax(pred_mask, dim=1)\n",
        "        pred_mask = pred_mask.contiguous().view(-1)\n",
        "        mask = mask.contiguous().view(-1)\n",
        "\n",
        "        iou_per_class = []\n",
        "        for clas in range(0, n_classes): #loop per pixel class\n",
        "            true_class = pred_mask == clas\n",
        "            true_label = mask == clas\n",
        "\n",
        "            if true_label.long().sum().item() == 0: #no exist label in this loop\n",
        "                iou_per_class.append(np.nan)\n",
        "            else:\n",
        "                intersect = torch.logical_and(true_class, true_label).sum().float().item()\n",
        "                union = torch.logical_or(true_class, true_label).sum().float().item()\n",
        "\n",
        "                iou = (intersect + smooth) / (union +smooth)\n",
        "                iou_per_class.append(iou)\n",
        "        return np.nanmean(iou_per_class)"
      ],
      "execution_count": null,
      "outputs": []
    },
    {
      "metadata": {
        "execution": {
          "iopub.execute_input": "2021-02-18T10:06:32.899945Z",
          "iopub.status.busy": "2021-02-18T10:06:32.899029Z",
          "iopub.status.idle": "2021-02-18T10:06:32.922271Z",
          "shell.execute_reply": "2021-02-18T10:06:32.921673Z"
        },
        "id": "8i9UIFUJJSgZ",
        "papermill": {
          "duration": 0.060048,
          "end_time": "2021-02-18T10:06:32.922403",
          "exception": false,
          "start_time": "2021-02-18T10:06:32.862355",
          "status": "completed"
        },
        "tags": [],
        "trusted": true
      },
      "cell_type": "code",
      "source": [
        "def get_lr(optimizer):\n",
        "    for param_group in optimizer.param_groups:\n",
        "        return param_group['lr']\n",
        "\n",
        "def fit(epochs, model, train_loader, val_loader, criterion, optimizer, scheduler):\n",
        "    torch.cuda.empty_cache()\n",
        "    train_losses = []\n",
        "    test_losses = []\n",
        "    val_iou = []; val_acc = []\n",
        "    train_iou = []; train_acc = []\n",
        "    lrs = []\n",
        "    min_loss = np.inf\n",
        "    decrease = 1 ; not_improve=0\n",
        "\n",
        "    model.to(device)\n",
        "    fit_time = time.time()\n",
        "    for e in range(epochs):\n",
        "        since = time.time()\n",
        "        running_loss = 0\n",
        "        iou_score = 0\n",
        "        accuracy = 0\n",
        "        #training loop\n",
        "        model.train()\n",
        "        for i, data in enumerate(tqdm(train_loader)):\n",
        "            #training phase\n",
        "            image_tiles, mask_tiles = data\n",
        "            \n",
        "            \n",
        "            image = image_tiles.to(device); mask = mask_tiles.to(device);\n",
        "            #forward\n",
        "            output = model(image)\n",
        "            loss = criterion(output, mask)\n",
        "            #evaluation metrics\n",
        "            iou_score += mIoU(output, mask)\n",
        "            accuracy += pixel_accuracy(output, mask)\n",
        "            #backward\n",
        "            loss.backward()\n",
        "            optimizer.step() #update weight          \n",
        "            optimizer.zero_grad() #reset gradient\n",
        "            \n",
        "            #step the learning rate\n",
        "            lrs.append(get_lr(optimizer))\n",
        "            scheduler.step() \n",
        "            \n",
        "            running_loss += loss.item()\n",
        "            \n",
        "        else:\n",
        "            model.eval()\n",
        "            test_loss = 0\n",
        "            test_accuracy = 0\n",
        "            val_iou_score = 0\n",
        "            #validation loop\n",
        "            with torch.no_grad():\n",
        "                for i, data in enumerate(tqdm(val_loader)):\n",
        "                    #reshape to 9 patches from single image, delete batch size\n",
        "                    image_tiles, mask_tiles = data\n",
        "                    \n",
        "                    image = image_tiles.to(device); mask = mask_tiles.to(device);\n",
        "                    output = model(image)\n",
        "                    #evaluation metrics\n",
        "                    val_iou_score +=  mIoU(output, mask)\n",
        "                    test_accuracy += pixel_accuracy(output, mask)\n",
        "                    #loss\n",
        "                    loss = criterion(output, mask)                                  \n",
        "                    test_loss += loss.item()\n",
        "            \n",
        "            #calculatio mean for each batch\n",
        "            train_losses.append(running_loss/len(train_loader))\n",
        "            test_losses.append(test_loss/len(val_loader))\n",
        "\n",
        "\n",
        "            if min_loss > (test_loss/len(val_loader)):\n",
        "                print('Loss Decreasing.. {:.3f} >> {:.3f} '.format(min_loss, (test_loss/len(val_loader))))\n",
        "                min_loss = (test_loss/len(val_loader))\n",
        "                decrease += 1\n",
        "                if decrease % 5 == 0:\n",
        "                    print('saving model...')\n",
        "                    torch.save(model, 'Unet-Mobilenet_v2_mIoU-{:.3f}.pt'.format(val_iou_score/len(val_loader)))\n",
        "                    \n",
        "\n",
        "            if (test_loss/len(val_loader)) > min_loss:\n",
        "                not_improve += 1\n",
        "                min_loss = (test_loss/len(val_loader))\n",
        "                print(f'Loss Not Decrease for {not_improve} time')\n",
        "                if not_improve == 7:\n",
        "                    print('Loss not decrease for 7 times, Stop Training')\n",
        "                    break\n",
        "            \n",
        "            #iou\n",
        "            val_iou.append(val_iou_score/len(val_loader))\n",
        "            train_iou.append(iou_score/len(train_loader))\n",
        "            train_acc.append(accuracy/len(train_loader))\n",
        "            val_acc.append(test_accuracy/ len(val_loader))\n",
        "            print(\"Epoch:{}/{}..\".format(e+1, epochs),\n",
        "                  \"Train Loss: {:.3f}..\".format(running_loss/len(train_loader)),\n",
        "                  \"Val Loss: {:.3f}..\".format(test_loss/len(val_loader)),\n",
        "                  \"Train mIoU:{:.3f}..\".format(iou_score/len(train_loader)),\n",
        "                  \"Val mIoU: {:.3f}..\".format(val_iou_score/len(val_loader)),\n",
        "                  \"Train Acc:{:.3f}..\".format(accuracy/len(train_loader)),\n",
        "                  \"Val Acc:{:.3f}..\".format(test_accuracy/len(val_loader)),\n",
        "                  \"Time: {:.2f}m\".format((time.time()-since)/60))\n",
        "        \n",
        "    history = {'train_loss' : train_losses, 'val_loss': test_losses,\n",
        "               'train_miou' :train_iou, 'val_miou':val_iou,\n",
        "               'train_acc' :train_acc, 'val_acc':val_acc,\n",
        "               'lrs': lrs}\n",
        "    print('Total time: {:.2f} m' .format((time.time()- fit_time)/60))\n",
        "    return history"
      ],
      "execution_count": null,
      "outputs": []
    },
    {
      "metadata": {
        "execution": {
          "iopub.execute_input": "2021-02-18T10:06:33.004857Z",
          "iopub.status.busy": "2021-02-18T10:06:33.004322Z",
          "iopub.status.idle": "2021-02-18T11:11:14.818207Z",
          "shell.execute_reply": "2021-02-18T11:11:14.818842Z"
        },
        "id": "vo-VQwfJJSgg",
        "outputId": "839f4a1a-4bea-4ff6-8b39-4638e178f455",
        "papermill": {
          "duration": 3881.864248,
          "end_time": "2021-02-18T11:11:14.819081",
          "exception": false,
          "start_time": "2021-02-18T10:06:32.954833",
          "status": "completed"
        },
        "tags": [],
        "trusted": true,
        "colab": {
          "base_uri": "https://localhost:8080/",
          "height": 377,
          "referenced_widgets": [
            "fae997e54f004975927521bd521d8254",
            "6bb440b632284b0e888f3a8ef41ff0ba",
            "b862d5757877425c951670008e6eb63b",
            "4a341c4a6bac41d694e3b30bc7739b16",
            "ba9ccb359ae04147a4fae06961df3770",
            "6175c9ced2564cfc9f6316db43a47f28",
            "53837edcc99d452295b243bea976051e",
            "9b4e39446e2f44f0b0964b7b333c8641",
            "97aa1d901814447c823810b36a553dc2",
            "a4e6e9f31b7847409db185ddb1d528db",
            "e49ea37ed6774f5b8197dd2d06d907d6"
          ]
        }
      },
      "cell_type": "code",
      "source": [
        "max_lr = 1e-3\n",
        "epoch = 5\n",
        "weight_decay = 1e-4\n",
        "\n",
        "criterion = nn.CrossEntropyLoss()\n",
        "optimizer = torch.optim.AdamW(model.parameters(), lr=max_lr, weight_decay=weight_decay)\n",
        "sched = torch.optim.lr_scheduler.OneCycleLR(optimizer, max_lr, epochs=epoch,\n",
        "                                            steps_per_epoch=len(train_loader))\n",
        "history = fit(epoch, model, train_loader, val_loader, criterion, optimizer, sched)"
      ],
      "execution_count": null,
      "outputs": [
        {
          "output_type": "display_data",
          "data": {
            "text/plain": [
              "  0%|          | 0/117 [00:00<?, ?it/s]"
            ],
            "application/vnd.jupyter.widget-view+json": {
              "version_major": 2,
              "version_minor": 0,
              "model_id": "fae997e54f004975927521bd521d8254"
            }
          },
          "metadata": {}
        },
        {
          "output_type": "error",
          "ename": "IndexError",
          "evalue": "ignored",
          "traceback": [
            "\u001b[0;31m---------------------------------------------------------------------------\u001b[0m",
            "\u001b[0;31mIndexError\u001b[0m                                Traceback (most recent call last)",
            "\u001b[0;32m<ipython-input-18-f10039904570>\u001b[0m in \u001b[0;36m<cell line: 9>\u001b[0;34m()\u001b[0m\n\u001b[1;32m      7\u001b[0m sched = torch.optim.lr_scheduler.OneCycleLR(optimizer, max_lr, epochs=epoch,\n\u001b[1;32m      8\u001b[0m                                             steps_per_epoch=len(train_loader))\n\u001b[0;32m----> 9\u001b[0;31m \u001b[0mhistory\u001b[0m \u001b[0;34m=\u001b[0m \u001b[0mfit\u001b[0m\u001b[0;34m(\u001b[0m\u001b[0mepoch\u001b[0m\u001b[0;34m,\u001b[0m \u001b[0mmodel\u001b[0m\u001b[0;34m,\u001b[0m \u001b[0mtrain_loader\u001b[0m\u001b[0;34m,\u001b[0m \u001b[0mval_loader\u001b[0m\u001b[0;34m,\u001b[0m \u001b[0mcriterion\u001b[0m\u001b[0;34m,\u001b[0m \u001b[0moptimizer\u001b[0m\u001b[0;34m,\u001b[0m \u001b[0msched\u001b[0m\u001b[0;34m)\u001b[0m\u001b[0;34m\u001b[0m\u001b[0;34m\u001b[0m\u001b[0m\n\u001b[0m",
            "\u001b[0;32m<ipython-input-14-83639e8fc578>\u001b[0m in \u001b[0;36mfit\u001b[0;34m(epochs, model, train_loader, val_loader, criterion, optimizer, scheduler)\u001b[0m\n\u001b[1;32m     30\u001b[0m             \u001b[0;31m#forward\u001b[0m\u001b[0;34m\u001b[0m\u001b[0;34m\u001b[0m\u001b[0m\n\u001b[1;32m     31\u001b[0m             \u001b[0moutput\u001b[0m \u001b[0;34m=\u001b[0m \u001b[0mmodel\u001b[0m\u001b[0;34m(\u001b[0m\u001b[0mimage\u001b[0m\u001b[0;34m)\u001b[0m\u001b[0;34m\u001b[0m\u001b[0;34m\u001b[0m\u001b[0m\n\u001b[0;32m---> 32\u001b[0;31m             \u001b[0mloss\u001b[0m \u001b[0;34m=\u001b[0m \u001b[0mcriterion\u001b[0m\u001b[0;34m(\u001b[0m\u001b[0moutput\u001b[0m\u001b[0;34m,\u001b[0m \u001b[0mmask\u001b[0m\u001b[0;34m)\u001b[0m\u001b[0;34m\u001b[0m\u001b[0;34m\u001b[0m\u001b[0m\n\u001b[0m\u001b[1;32m     33\u001b[0m             \u001b[0;31m#evaluation metrics\u001b[0m\u001b[0;34m\u001b[0m\u001b[0;34m\u001b[0m\u001b[0m\n\u001b[1;32m     34\u001b[0m             \u001b[0miou_score\u001b[0m \u001b[0;34m+=\u001b[0m \u001b[0mmIoU\u001b[0m\u001b[0;34m(\u001b[0m\u001b[0moutput\u001b[0m\u001b[0;34m,\u001b[0m \u001b[0mmask\u001b[0m\u001b[0;34m)\u001b[0m\u001b[0;34m\u001b[0m\u001b[0;34m\u001b[0m\u001b[0m\n",
            "\u001b[0;32m/usr/local/lib/python3.10/dist-packages/torch/nn/modules/module.py\u001b[0m in \u001b[0;36m_call_impl\u001b[0;34m(self, *args, **kwargs)\u001b[0m\n\u001b[1;32m   1499\u001b[0m                 \u001b[0;32mor\u001b[0m \u001b[0m_global_backward_pre_hooks\u001b[0m \u001b[0;32mor\u001b[0m \u001b[0m_global_backward_hooks\u001b[0m\u001b[0;34m\u001b[0m\u001b[0;34m\u001b[0m\u001b[0m\n\u001b[1;32m   1500\u001b[0m                 or _global_forward_hooks or _global_forward_pre_hooks):\n\u001b[0;32m-> 1501\u001b[0;31m             \u001b[0;32mreturn\u001b[0m \u001b[0mforward_call\u001b[0m\u001b[0;34m(\u001b[0m\u001b[0;34m*\u001b[0m\u001b[0margs\u001b[0m\u001b[0;34m,\u001b[0m \u001b[0;34m**\u001b[0m\u001b[0mkwargs\u001b[0m\u001b[0;34m)\u001b[0m\u001b[0;34m\u001b[0m\u001b[0;34m\u001b[0m\u001b[0m\n\u001b[0m\u001b[1;32m   1502\u001b[0m         \u001b[0;31m# Do not call functions when jit is used\u001b[0m\u001b[0;34m\u001b[0m\u001b[0;34m\u001b[0m\u001b[0m\n\u001b[1;32m   1503\u001b[0m         \u001b[0mfull_backward_hooks\u001b[0m\u001b[0;34m,\u001b[0m \u001b[0mnon_full_backward_hooks\u001b[0m \u001b[0;34m=\u001b[0m \u001b[0;34m[\u001b[0m\u001b[0;34m]\u001b[0m\u001b[0;34m,\u001b[0m \u001b[0;34m[\u001b[0m\u001b[0;34m]\u001b[0m\u001b[0;34m\u001b[0m\u001b[0;34m\u001b[0m\u001b[0m\n",
            "\u001b[0;32m/usr/local/lib/python3.10/dist-packages/torch/nn/modules/loss.py\u001b[0m in \u001b[0;36mforward\u001b[0;34m(self, input, target)\u001b[0m\n\u001b[1;32m   1172\u001b[0m \u001b[0;34m\u001b[0m\u001b[0m\n\u001b[1;32m   1173\u001b[0m     \u001b[0;32mdef\u001b[0m \u001b[0mforward\u001b[0m\u001b[0;34m(\u001b[0m\u001b[0mself\u001b[0m\u001b[0;34m,\u001b[0m \u001b[0minput\u001b[0m\u001b[0;34m:\u001b[0m \u001b[0mTensor\u001b[0m\u001b[0;34m,\u001b[0m \u001b[0mtarget\u001b[0m\u001b[0;34m:\u001b[0m \u001b[0mTensor\u001b[0m\u001b[0;34m)\u001b[0m \u001b[0;34m->\u001b[0m \u001b[0mTensor\u001b[0m\u001b[0;34m:\u001b[0m\u001b[0;34m\u001b[0m\u001b[0;34m\u001b[0m\u001b[0m\n\u001b[0;32m-> 1174\u001b[0;31m         return F.cross_entropy(input, target, weight=self.weight,\n\u001b[0m\u001b[1;32m   1175\u001b[0m                                \u001b[0mignore_index\u001b[0m\u001b[0;34m=\u001b[0m\u001b[0mself\u001b[0m\u001b[0;34m.\u001b[0m\u001b[0mignore_index\u001b[0m\u001b[0;34m,\u001b[0m \u001b[0mreduction\u001b[0m\u001b[0;34m=\u001b[0m\u001b[0mself\u001b[0m\u001b[0;34m.\u001b[0m\u001b[0mreduction\u001b[0m\u001b[0;34m,\u001b[0m\u001b[0;34m\u001b[0m\u001b[0;34m\u001b[0m\u001b[0m\n\u001b[1;32m   1176\u001b[0m                                label_smoothing=self.label_smoothing)\n",
            "\u001b[0;32m/usr/local/lib/python3.10/dist-packages/torch/nn/functional.py\u001b[0m in \u001b[0;36mcross_entropy\u001b[0;34m(input, target, weight, size_average, ignore_index, reduce, reduction, label_smoothing)\u001b[0m\n\u001b[1;32m   3027\u001b[0m     \u001b[0;32mif\u001b[0m \u001b[0msize_average\u001b[0m \u001b[0;32mis\u001b[0m \u001b[0;32mnot\u001b[0m \u001b[0;32mNone\u001b[0m \u001b[0;32mor\u001b[0m \u001b[0mreduce\u001b[0m \u001b[0;32mis\u001b[0m \u001b[0;32mnot\u001b[0m \u001b[0;32mNone\u001b[0m\u001b[0;34m:\u001b[0m\u001b[0;34m\u001b[0m\u001b[0;34m\u001b[0m\u001b[0m\n\u001b[1;32m   3028\u001b[0m         \u001b[0mreduction\u001b[0m \u001b[0;34m=\u001b[0m \u001b[0m_Reduction\u001b[0m\u001b[0;34m.\u001b[0m\u001b[0mlegacy_get_string\u001b[0m\u001b[0;34m(\u001b[0m\u001b[0msize_average\u001b[0m\u001b[0;34m,\u001b[0m \u001b[0mreduce\u001b[0m\u001b[0;34m)\u001b[0m\u001b[0;34m\u001b[0m\u001b[0;34m\u001b[0m\u001b[0m\n\u001b[0;32m-> 3029\u001b[0;31m     \u001b[0;32mreturn\u001b[0m \u001b[0mtorch\u001b[0m\u001b[0;34m.\u001b[0m\u001b[0m_C\u001b[0m\u001b[0;34m.\u001b[0m\u001b[0m_nn\u001b[0m\u001b[0;34m.\u001b[0m\u001b[0mcross_entropy_loss\u001b[0m\u001b[0;34m(\u001b[0m\u001b[0minput\u001b[0m\u001b[0;34m,\u001b[0m \u001b[0mtarget\u001b[0m\u001b[0;34m,\u001b[0m \u001b[0mweight\u001b[0m\u001b[0;34m,\u001b[0m \u001b[0m_Reduction\u001b[0m\u001b[0;34m.\u001b[0m\u001b[0mget_enum\u001b[0m\u001b[0;34m(\u001b[0m\u001b[0mreduction\u001b[0m\u001b[0;34m)\u001b[0m\u001b[0;34m,\u001b[0m \u001b[0mignore_index\u001b[0m\u001b[0;34m,\u001b[0m \u001b[0mlabel_smoothing\u001b[0m\u001b[0;34m)\u001b[0m\u001b[0;34m\u001b[0m\u001b[0;34m\u001b[0m\u001b[0m\n\u001b[0m\u001b[1;32m   3030\u001b[0m \u001b[0;34m\u001b[0m\u001b[0m\n\u001b[1;32m   3031\u001b[0m \u001b[0;34m\u001b[0m\u001b[0m\n",
            "\u001b[0;31mIndexError\u001b[0m: Target 178 is out of bounds."
          ]
        }
      ]
    },
    {
      "metadata": {
        "execution": {
          "iopub.execute_input": "2021-02-18T11:11:14.942475Z",
          "iopub.status.busy": "2021-02-18T11:11:14.924135Z",
          "iopub.status.idle": "2021-02-18T11:11:15.016759Z",
          "shell.execute_reply": "2021-02-18T11:11:15.017446Z"
        },
        "id": "km58PT8qvJ4g",
        "papermill": {
          "duration": 0.15037,
          "end_time": "2021-02-18T11:11:15.01764",
          "exception": false,
          "start_time": "2021-02-18T11:11:14.86727",
          "status": "completed"
        },
        "tags": [],
        "trusted": true
      },
      "cell_type": "code",
      "source": [
        "torch.save(model, 'Unet-Mobilenet.pt')"
      ],
      "execution_count": null,
      "outputs": []
    },
    {
      "metadata": {
        "execution": {
          "iopub.execute_input": "2021-02-18T11:11:15.562088Z",
          "iopub.status.busy": "2021-02-18T11:11:15.56023Z",
          "iopub.status.idle": "2021-02-18T11:11:15.56275Z",
          "shell.execute_reply": "2021-02-18T11:11:15.563389Z"
        },
        "id": "ojw74huJJSgn",
        "papermill": {
          "duration": 0.094126,
          "end_time": "2021-02-18T11:11:15.563574",
          "exception": false,
          "start_time": "2021-02-18T11:11:15.469448",
          "status": "completed"
        },
        "tags": [],
        "trusted": true
      },
      "cell_type": "code",
      "source": [
        "def plot_loss(history):\n",
        "    plt.plot(history['val_loss'], label='val', marker='o')\n",
        "    plt.plot( history['train_loss'], label='train', marker='o')\n",
        "    plt.title('Loss per epoch'); plt.ylabel('loss');\n",
        "    plt.xlabel('epoch')\n",
        "    plt.legend(), plt.grid()\n",
        "    plt.show()\n",
        "    \n",
        "def plot_score(history):\n",
        "    plt.plot(history['train_miou'], label='train_mIoU', marker='*')\n",
        "    plt.plot(history['val_miou'], label='val_mIoU',  marker='*')\n",
        "    plt.title('Score per epoch'); plt.ylabel('mean IoU')\n",
        "    plt.xlabel('epoch')\n",
        "    plt.legend(), plt.grid()\n",
        "    plt.show()\n",
        "    \n",
        "def plot_acc(history):\n",
        "    plt.plot(history['train_acc'], label='train_accuracy', marker='*')\n",
        "    plt.plot(history['val_acc'], label='val_accuracy',  marker='*')\n",
        "    plt.title('Accuracy per epoch'); plt.ylabel('Accuracy')\n",
        "    plt.xlabel('epoch')\n",
        "    plt.legend(), plt.grid()\n",
        "    plt.show()"
      ],
      "execution_count": null,
      "outputs": []
    },
    {
      "metadata": {
        "execution": {
          "iopub.execute_input": "2021-02-18T11:11:15.725962Z",
          "iopub.status.busy": "2021-02-18T11:11:15.725168Z",
          "iopub.status.idle": "2021-02-18T11:11:16.361868Z",
          "shell.execute_reply": "2021-02-18T11:11:16.361393Z"
        },
        "id": "KT-pRvoJJSgq",
        "papermill": {
          "duration": 0.71827,
          "end_time": "2021-02-18T11:11:16.361999",
          "exception": false,
          "start_time": "2021-02-18T11:11:15.643729",
          "status": "completed"
        },
        "tags": [],
        "trusted": true
      },
      "cell_type": "code",
      "source": [
        "plot_loss(history)\n",
        "plot_score(history)\n",
        "plot_acc(history)"
      ],
      "execution_count": null,
      "outputs": []
    },
    {
      "metadata": {
        "id": "6BdSV7zxJSgu",
        "papermill": {
          "duration": 0.049339,
          "end_time": "2021-02-18T11:11:16.461916",
          "exception": false,
          "start_time": "2021-02-18T11:11:16.412577",
          "status": "completed"
        },
        "tags": []
      },
      "cell_type": "markdown",
      "source": [
        "# Evaluation"
      ]
    },
    {
      "metadata": {
        "execution": {
          "iopub.execute_input": "2021-02-18T11:11:16.570237Z",
          "iopub.status.busy": "2021-02-18T11:11:16.569485Z",
          "iopub.status.idle": "2021-02-18T11:11:16.57332Z",
          "shell.execute_reply": "2021-02-18T11:11:16.572904Z"
        },
        "id": "s9A82ZcL14-M",
        "papermill": {
          "duration": 0.06197,
          "end_time": "2021-02-18T11:11:16.573439",
          "exception": false,
          "start_time": "2021-02-18T11:11:16.511469",
          "status": "completed"
        },
        "tags": [],
        "trusted": true
      },
      "cell_type": "code",
      "source": [
        "class DroneTestDataset(Dataset):\n",
        "    \n",
        "    def __init__(self, img_path, mask_path, X, transform=None):\n",
        "        self.img_path = img_path\n",
        "        self.mask_path = mask_path\n",
        "        self.X = X\n",
        "        self.transform = transform\n",
        "      \n",
        "    def __len__(self):\n",
        "        return len(self.X)\n",
        "    \n",
        "    def __getitem__(self, idx):\n",
        "        img = cv2.imread(self.img_path + self.X[idx] + '.png')\n",
        "        #img = cv2.cvtColor(img, cv2.COLOR_BGR2RGB)\n",
        "        mask = cv2.imread(self.mask_path + self.X[idx] + '.png', cv2.IMREAD_GRAYSCALE)\n",
        "        \n",
        "        if self.transform is not None:\n",
        "            aug = self.transform(image=img, mask=mask)\n",
        "            img = Image.fromarray(aug['image'])\n",
        "            mask = aug['mask']\n",
        "        \n",
        "        if self.transform is None:\n",
        "            img = Image.fromarray(img)\n",
        "        \n",
        "        mask = torch.from_numpy(mask).long()\n",
        "        \n",
        "        return img, mask\n",
        "\n",
        "\n",
        "t_test = A.Resize(512, 512, interpolation=cv2.INTER_NEAREST)\n",
        "test_set = DroneTestDataset(IMAGE_PATH, MASK_PATH, X_test, transform=t_test)"
      ],
      "execution_count": null,
      "outputs": []
    },
    {
      "metadata": {
        "id": "j0c6UnUz4gb6",
        "papermill": {
          "duration": 0.050775,
          "end_time": "2021-02-18T11:11:16.67452",
          "exception": false,
          "start_time": "2021-02-18T11:11:16.623745",
          "status": "completed"
        },
        "tags": []
      },
      "cell_type": "markdown",
      "source": [
        "## Result"
      ]
    },
    {
      "metadata": {
        "execution": {
          "iopub.execute_input": "2021-02-18T11:11:16.783538Z",
          "iopub.status.busy": "2021-02-18T11:11:16.782798Z",
          "iopub.status.idle": "2021-02-18T11:11:16.785747Z",
          "shell.execute_reply": "2021-02-18T11:11:16.785316Z"
        },
        "papermill": {
          "duration": 0.060719,
          "end_time": "2021-02-18T11:11:16.785872",
          "exception": false,
          "start_time": "2021-02-18T11:11:16.725153",
          "status": "completed"
        },
        "tags": [],
        "trusted": true,
        "id": "f18Txo9pvL85"
      },
      "cell_type": "code",
      "source": [
        "def predict_image_mask_miou(model, image, mask, mean=[0.485, 0.456, 0.406], std=[0.229, 0.224, 0.225]):\n",
        "    model.eval()\n",
        "    t = T.Compose([T.ToTensor(), T.Normalize(mean, std)])\n",
        "    image = t(image)\n",
        "    model.to(device); image=image.to(device)\n",
        "    mask = mask.to(device)\n",
        "    with torch.no_grad():\n",
        "        \n",
        "        image = image.unsqueeze(0)\n",
        "        mask = mask.unsqueeze(0)\n",
        "        \n",
        "        output = model(image)\n",
        "        score = mIoU(output, mask)\n",
        "        masked = torch.argmax(output, dim=1)\n",
        "        masked = masked.cpu().squeeze(0)\n",
        "    return masked, score"
      ],
      "execution_count": null,
      "outputs": []
    },
    {
      "metadata": {
        "execution": {
          "iopub.execute_input": "2021-02-18T11:11:16.892351Z",
          "iopub.status.busy": "2021-02-18T11:11:16.891618Z",
          "iopub.status.idle": "2021-02-18T11:11:16.894757Z",
          "shell.execute_reply": "2021-02-18T11:11:16.895131Z"
        },
        "id": "ggsxFaduVz2O",
        "papermill": {
          "duration": 0.059442,
          "end_time": "2021-02-18T11:11:16.89527",
          "exception": false,
          "start_time": "2021-02-18T11:11:16.835828",
          "status": "completed"
        },
        "tags": [],
        "trusted": true
      },
      "cell_type": "code",
      "source": [
        "def predict_image_mask_pixel(model, image, mask, mean=[0.485, 0.456, 0.406], std=[0.229, 0.224, 0.225]):\n",
        "    model.eval()\n",
        "    t = T.Compose([T.ToTensor(), T.Normalize(mean, std)])\n",
        "    image = t(image)\n",
        "    model.to(device); image=image.to(device)\n",
        "    mask = mask.to(device)\n",
        "    with torch.no_grad():\n",
        "        \n",
        "        image = image.unsqueeze(0)\n",
        "        mask = mask.unsqueeze(0)\n",
        "        \n",
        "        output = model(image)\n",
        "        acc = pixel_accuracy(output, mask)\n",
        "        masked = torch.argmax(output, dim=1)\n",
        "        masked = masked.cpu().squeeze(0)\n",
        "    return masked, acc"
      ],
      "execution_count": null,
      "outputs": []
    },
    {
      "metadata": {
        "execution": {
          "iopub.execute_input": "2021-02-18T11:11:16.998584Z",
          "iopub.status.busy": "2021-02-18T11:11:16.998047Z",
          "iopub.status.idle": "2021-02-18T11:11:17.669531Z",
          "shell.execute_reply": "2021-02-18T11:11:17.668461Z"
        },
        "id": "ZPPKBax53Kj7",
        "papermill": {
          "duration": 0.725244,
          "end_time": "2021-02-18T11:11:17.669662",
          "exception": false,
          "start_time": "2021-02-18T11:11:16.944418",
          "status": "completed"
        },
        "tags": [],
        "trusted": true
      },
      "cell_type": "code",
      "source": [
        "image, mask = test_set[3]\n",
        "pred_mask, score = predict_image_mask_miou(model, image, mask)"
      ],
      "execution_count": null,
      "outputs": []
    },
    {
      "metadata": {
        "execution": {
          "iopub.execute_input": "2021-02-18T11:11:17.774602Z",
          "iopub.status.busy": "2021-02-18T11:11:17.773989Z",
          "iopub.status.idle": "2021-02-18T11:11:17.777419Z",
          "shell.execute_reply": "2021-02-18T11:11:17.776996Z"
        },
        "id": "-UY_OKGW-Zo5",
        "papermill": {
          "duration": 0.057861,
          "end_time": "2021-02-18T11:11:17.777536",
          "exception": false,
          "start_time": "2021-02-18T11:11:17.719675",
          "status": "completed"
        },
        "tags": [],
        "trusted": true
      },
      "cell_type": "code",
      "source": [
        "def miou_score(model, test_set):\n",
        "    score_iou = []\n",
        "    for i in tqdm(range(len(test_set))):\n",
        "        img, mask = test_set[i]\n",
        "        pred_mask, score = predict_image_mask_miou(model, img, mask)\n",
        "        score_iou.append(score)\n",
        "    return score_iou"
      ],
      "execution_count": null,
      "outputs": []
    },
    {
      "metadata": {
        "execution": {
          "iopub.execute_input": "2021-02-18T11:11:17.902935Z",
          "iopub.status.busy": "2021-02-18T11:11:17.901972Z",
          "iopub.status.idle": "2021-02-18T11:11:44.471364Z",
          "shell.execute_reply": "2021-02-18T11:11:44.470493Z"
        },
        "id": "DCa1A9y8zTbg",
        "papermill": {
          "duration": 26.64397,
          "end_time": "2021-02-18T11:11:44.471497",
          "exception": false,
          "start_time": "2021-02-18T11:11:17.827527",
          "status": "completed"
        },
        "tags": [],
        "trusted": true
      },
      "cell_type": "code",
      "source": [
        "mob_miou = miou_score(model, test_set)"
      ],
      "execution_count": null,
      "outputs": []
    },
    {
      "metadata": {
        "execution": {
          "iopub.execute_input": "2021-02-18T11:11:44.58043Z",
          "iopub.status.busy": "2021-02-18T11:11:44.578623Z",
          "iopub.status.idle": "2021-02-18T11:11:44.581014Z",
          "shell.execute_reply": "2021-02-18T11:11:44.581408Z"
        },
        "id": "LuexylyzXCmc",
        "papermill": {
          "duration": 0.058884,
          "end_time": "2021-02-18T11:11:44.581542",
          "exception": false,
          "start_time": "2021-02-18T11:11:44.522658",
          "status": "completed"
        },
        "tags": [],
        "trusted": true
      },
      "cell_type": "code",
      "source": [
        "def pixel_acc(model, test_set):\n",
        "    accuracy = []\n",
        "    for i in tqdm(range(len(test_set))):\n",
        "        img, mask = test_set[i]\n",
        "        pred_mask, acc = predict_image_mask_pixel(model, img, mask)\n",
        "        accuracy.append(acc)\n",
        "    return accuracy"
      ],
      "execution_count": null,
      "outputs": []
    },
    {
      "metadata": {
        "execution": {
          "iopub.execute_input": "2021-02-18T11:11:44.713091Z",
          "iopub.status.busy": "2021-02-18T11:11:44.712183Z",
          "iopub.status.idle": "2021-02-18T11:12:10.040277Z",
          "shell.execute_reply": "2021-02-18T11:12:10.039836Z"
        },
        "id": "wIEZR3w4XTFL",
        "papermill": {
          "duration": 25.407116,
          "end_time": "2021-02-18T11:12:10.040411",
          "exception": false,
          "start_time": "2021-02-18T11:11:44.633295",
          "status": "completed"
        },
        "tags": [],
        "trusted": true
      },
      "cell_type": "code",
      "source": [
        "mob_acc = pixel_acc(model, test_set)"
      ],
      "execution_count": null,
      "outputs": []
    },
    {
      "metadata": {
        "execution": {
          "iopub.execute_input": "2021-02-18T11:12:10.162903Z",
          "iopub.status.busy": "2021-02-18T11:12:10.161911Z",
          "iopub.status.idle": "2021-02-18T11:12:10.715286Z",
          "shell.execute_reply": "2021-02-18T11:12:10.715682Z"
        },
        "id": "FV6xO9SLtSum",
        "papermill": {
          "duration": 0.624904,
          "end_time": "2021-02-18T11:12:10.715853",
          "exception": false,
          "start_time": "2021-02-18T11:12:10.090949",
          "status": "completed"
        },
        "tags": [],
        "trusted": true
      },
      "cell_type": "code",
      "source": [
        "fig, (ax1, ax2, ax3) = plt.subplots(1,3, figsize=(20,10))\n",
        "ax1.imshow(image)\n",
        "ax1.set_title('Picture');\n",
        "\n",
        "ax2.imshow(mask)\n",
        "ax2.set_title('Ground truth')\n",
        "ax2.set_axis_off()\n",
        "\n",
        "ax3.imshow(pred_mask)\n",
        "ax3.set_title('UNet-MobileNet | mIoU {:.3f}'.format(score))\n",
        "ax3.set_axis_off()"
      ],
      "execution_count": null,
      "outputs": []
    },
    {
      "metadata": {
        "execution": {
          "iopub.execute_input": "2021-02-18T11:12:10.836981Z",
          "iopub.status.busy": "2021-02-18T11:12:10.83618Z",
          "iopub.status.idle": "2021-02-18T11:12:11.88577Z",
          "shell.execute_reply": "2021-02-18T11:12:11.886234Z"
        },
        "papermill": {
          "duration": 1.113059,
          "end_time": "2021-02-18T11:12:11.886384",
          "exception": false,
          "start_time": "2021-02-18T11:12:10.773325",
          "status": "completed"
        },
        "tags": [],
        "trusted": true,
        "id": "fpIZonuBvL87"
      },
      "cell_type": "code",
      "source": [
        "image2, mask2 = test_set[4]\n",
        "pred_mask2, score2 = predict_image_mask_miou(model, image2, mask2)\n",
        "\n",
        "fig, (ax1, ax2, ax3) = plt.subplots(1,3, figsize=(20,10))\n",
        "ax1.imshow(image2)\n",
        "ax1.set_title('Picture');\n",
        "\n",
        "ax2.imshow(mask2)\n",
        "ax2.set_title('Ground truth')\n",
        "ax2.set_axis_off()\n",
        "\n",
        "ax3.imshow(pred_mask2)\n",
        "ax3.set_title('UNet-MobileNet | mIoU {:.3f}'.format(score2))\n",
        "ax3.set_axis_off()"
      ],
      "execution_count": null,
      "outputs": []
    },
    {
      "metadata": {
        "execution": {
          "iopub.execute_input": "2021-02-18T11:12:12.022576Z",
          "iopub.status.busy": "2021-02-18T11:12:12.021816Z",
          "iopub.status.idle": "2021-02-18T11:12:13.061961Z",
          "shell.execute_reply": "2021-02-18T11:12:13.062372Z"
        },
        "papermill": {
          "duration": 1.110346,
          "end_time": "2021-02-18T11:12:13.062543",
          "exception": false,
          "start_time": "2021-02-18T11:12:11.952197",
          "status": "completed"
        },
        "tags": [],
        "trusted": true,
        "id": "ai0SveKrvL87"
      },
      "cell_type": "code",
      "source": [
        "image3, mask3 = test_set[6]\n",
        "pred_mask3, score3 = predict_image_mask_miou(model, image3, mask3)\n",
        "\n",
        "fig, (ax1, ax2, ax3) = plt.subplots(1,3, figsize=(20,10))\n",
        "ax1.imshow(image3)\n",
        "ax1.set_title('Picture');\n",
        "\n",
        "ax2.imshow(mask3)\n",
        "ax2.set_title('Ground truth')\n",
        "ax2.set_axis_off()\n",
        "\n",
        "ax3.imshow(pred_mask3)\n",
        "ax3.set_title('UNet-MobileNet | mIoU {:.3f}'.format(score3))\n",
        "ax3.set_axis_off()"
      ],
      "execution_count": null,
      "outputs": []
    },
    {
      "metadata": {
        "execution": {
          "iopub.execute_input": "2021-02-18T11:12:13.207789Z",
          "iopub.status.busy": "2021-02-18T11:12:13.207124Z",
          "iopub.status.idle": "2021-02-18T11:12:13.211749Z",
          "shell.execute_reply": "2021-02-18T11:12:13.211252Z"
        },
        "id": "xxTIX8P-JSh9",
        "papermill": {
          "duration": 0.079123,
          "end_time": "2021-02-18T11:12:13.21186",
          "exception": false,
          "start_time": "2021-02-18T11:12:13.132737",
          "status": "completed"
        },
        "tags": [],
        "trusted": true
      },
      "cell_type": "code",
      "source": [
        "print('Test Set mIoU', np.mean(mob_miou))"
      ],
      "execution_count": null,
      "outputs": []
    },
    {
      "metadata": {
        "execution": {
          "iopub.execute_input": "2021-02-18T11:12:13.356105Z",
          "iopub.status.busy": "2021-02-18T11:12:13.355397Z",
          "iopub.status.idle": "2021-02-18T11:12:13.361148Z",
          "shell.execute_reply": "2021-02-18T11:12:13.36053Z"
        },
        "id": "bcKnghXTXbAJ",
        "papermill": {
          "duration": 0.080048,
          "end_time": "2021-02-18T11:12:13.361311",
          "exception": false,
          "start_time": "2021-02-18T11:12:13.281263",
          "status": "completed"
        },
        "tags": [],
        "trusted": true
      },
      "cell_type": "code",
      "source": [
        "print('Test Set Pixel Accuracy', np.mean(mob_acc))"
      ],
      "execution_count": null,
      "outputs": []
    }
  ],
  "metadata": {
    "kernelspec": {
      "name": "python3",
      "display_name": "Python 3",
      "language": "python"
    },
    "language_info": {
      "name": "python",
      "version": "3.7.9",
      "mimetype": "text/x-python",
      "codemirror_mode": {
        "name": "ipython",
        "version": 3
      },
      "pygments_lexer": "ipython3",
      "nbconvert_exporter": "python",
      "file_extension": ".py"
    },
    "colab": {
      "provenance": [],
      "collapsed_sections": [
        "jJ-ZypiFJSgJ"
      ],
      "include_colab_link": true
    },
    "widgets": {
      "application/vnd.jupyter.widget-state+json": {
        "fae997e54f004975927521bd521d8254": {
          "model_module": "@jupyter-widgets/controls",
          "model_name": "HBoxModel",
          "model_module_version": "1.5.0",
          "state": {
            "_dom_classes": [],
            "_model_module": "@jupyter-widgets/controls",
            "_model_module_version": "1.5.0",
            "_model_name": "HBoxModel",
            "_view_count": null,
            "_view_module": "@jupyter-widgets/controls",
            "_view_module_version": "1.5.0",
            "_view_name": "HBoxView",
            "box_style": "",
            "children": [
              "IPY_MODEL_6bb440b632284b0e888f3a8ef41ff0ba",
              "IPY_MODEL_b862d5757877425c951670008e6eb63b",
              "IPY_MODEL_4a341c4a6bac41d694e3b30bc7739b16"
            ],
            "layout": "IPY_MODEL_ba9ccb359ae04147a4fae06961df3770"
          }
        },
        "6bb440b632284b0e888f3a8ef41ff0ba": {
          "model_module": "@jupyter-widgets/controls",
          "model_name": "HTMLModel",
          "model_module_version": "1.5.0",
          "state": {
            "_dom_classes": [],
            "_model_module": "@jupyter-widgets/controls",
            "_model_module_version": "1.5.0",
            "_model_name": "HTMLModel",
            "_view_count": null,
            "_view_module": "@jupyter-widgets/controls",
            "_view_module_version": "1.5.0",
            "_view_name": "HTMLView",
            "description": "",
            "description_tooltip": null,
            "layout": "IPY_MODEL_6175c9ced2564cfc9f6316db43a47f28",
            "placeholder": "​",
            "style": "IPY_MODEL_53837edcc99d452295b243bea976051e",
            "value": "  0%"
          }
        },
        "b862d5757877425c951670008e6eb63b": {
          "model_module": "@jupyter-widgets/controls",
          "model_name": "FloatProgressModel",
          "model_module_version": "1.5.0",
          "state": {
            "_dom_classes": [],
            "_model_module": "@jupyter-widgets/controls",
            "_model_module_version": "1.5.0",
            "_model_name": "FloatProgressModel",
            "_view_count": null,
            "_view_module": "@jupyter-widgets/controls",
            "_view_module_version": "1.5.0",
            "_view_name": "ProgressView",
            "bar_style": "danger",
            "description": "",
            "description_tooltip": null,
            "layout": "IPY_MODEL_9b4e39446e2f44f0b0964b7b333c8641",
            "max": 117,
            "min": 0,
            "orientation": "horizontal",
            "style": "IPY_MODEL_97aa1d901814447c823810b36a553dc2",
            "value": 0
          }
        },
        "4a341c4a6bac41d694e3b30bc7739b16": {
          "model_module": "@jupyter-widgets/controls",
          "model_name": "HTMLModel",
          "model_module_version": "1.5.0",
          "state": {
            "_dom_classes": [],
            "_model_module": "@jupyter-widgets/controls",
            "_model_module_version": "1.5.0",
            "_model_name": "HTMLModel",
            "_view_count": null,
            "_view_module": "@jupyter-widgets/controls",
            "_view_module_version": "1.5.0",
            "_view_name": "HTMLView",
            "description": "",
            "description_tooltip": null,
            "layout": "IPY_MODEL_a4e6e9f31b7847409db185ddb1d528db",
            "placeholder": "​",
            "style": "IPY_MODEL_e49ea37ed6774f5b8197dd2d06d907d6",
            "value": " 0/117 [00:13&lt;?, ?it/s]"
          }
        },
        "ba9ccb359ae04147a4fae06961df3770": {
          "model_module": "@jupyter-widgets/base",
          "model_name": "LayoutModel",
          "model_module_version": "1.2.0",
          "state": {
            "_model_module": "@jupyter-widgets/base",
            "_model_module_version": "1.2.0",
            "_model_name": "LayoutModel",
            "_view_count": null,
            "_view_module": "@jupyter-widgets/base",
            "_view_module_version": "1.2.0",
            "_view_name": "LayoutView",
            "align_content": null,
            "align_items": null,
            "align_self": null,
            "border": null,
            "bottom": null,
            "display": null,
            "flex": null,
            "flex_flow": null,
            "grid_area": null,
            "grid_auto_columns": null,
            "grid_auto_flow": null,
            "grid_auto_rows": null,
            "grid_column": null,
            "grid_gap": null,
            "grid_row": null,
            "grid_template_areas": null,
            "grid_template_columns": null,
            "grid_template_rows": null,
            "height": null,
            "justify_content": null,
            "justify_items": null,
            "left": null,
            "margin": null,
            "max_height": null,
            "max_width": null,
            "min_height": null,
            "min_width": null,
            "object_fit": null,
            "object_position": null,
            "order": null,
            "overflow": null,
            "overflow_x": null,
            "overflow_y": null,
            "padding": null,
            "right": null,
            "top": null,
            "visibility": null,
            "width": null
          }
        },
        "6175c9ced2564cfc9f6316db43a47f28": {
          "model_module": "@jupyter-widgets/base",
          "model_name": "LayoutModel",
          "model_module_version": "1.2.0",
          "state": {
            "_model_module": "@jupyter-widgets/base",
            "_model_module_version": "1.2.0",
            "_model_name": "LayoutModel",
            "_view_count": null,
            "_view_module": "@jupyter-widgets/base",
            "_view_module_version": "1.2.0",
            "_view_name": "LayoutView",
            "align_content": null,
            "align_items": null,
            "align_self": null,
            "border": null,
            "bottom": null,
            "display": null,
            "flex": null,
            "flex_flow": null,
            "grid_area": null,
            "grid_auto_columns": null,
            "grid_auto_flow": null,
            "grid_auto_rows": null,
            "grid_column": null,
            "grid_gap": null,
            "grid_row": null,
            "grid_template_areas": null,
            "grid_template_columns": null,
            "grid_template_rows": null,
            "height": null,
            "justify_content": null,
            "justify_items": null,
            "left": null,
            "margin": null,
            "max_height": null,
            "max_width": null,
            "min_height": null,
            "min_width": null,
            "object_fit": null,
            "object_position": null,
            "order": null,
            "overflow": null,
            "overflow_x": null,
            "overflow_y": null,
            "padding": null,
            "right": null,
            "top": null,
            "visibility": null,
            "width": null
          }
        },
        "53837edcc99d452295b243bea976051e": {
          "model_module": "@jupyter-widgets/controls",
          "model_name": "DescriptionStyleModel",
          "model_module_version": "1.5.0",
          "state": {
            "_model_module": "@jupyter-widgets/controls",
            "_model_module_version": "1.5.0",
            "_model_name": "DescriptionStyleModel",
            "_view_count": null,
            "_view_module": "@jupyter-widgets/base",
            "_view_module_version": "1.2.0",
            "_view_name": "StyleView",
            "description_width": ""
          }
        },
        "9b4e39446e2f44f0b0964b7b333c8641": {
          "model_module": "@jupyter-widgets/base",
          "model_name": "LayoutModel",
          "model_module_version": "1.2.0",
          "state": {
            "_model_module": "@jupyter-widgets/base",
            "_model_module_version": "1.2.0",
            "_model_name": "LayoutModel",
            "_view_count": null,
            "_view_module": "@jupyter-widgets/base",
            "_view_module_version": "1.2.0",
            "_view_name": "LayoutView",
            "align_content": null,
            "align_items": null,
            "align_self": null,
            "border": null,
            "bottom": null,
            "display": null,
            "flex": null,
            "flex_flow": null,
            "grid_area": null,
            "grid_auto_columns": null,
            "grid_auto_flow": null,
            "grid_auto_rows": null,
            "grid_column": null,
            "grid_gap": null,
            "grid_row": null,
            "grid_template_areas": null,
            "grid_template_columns": null,
            "grid_template_rows": null,
            "height": null,
            "justify_content": null,
            "justify_items": null,
            "left": null,
            "margin": null,
            "max_height": null,
            "max_width": null,
            "min_height": null,
            "min_width": null,
            "object_fit": null,
            "object_position": null,
            "order": null,
            "overflow": null,
            "overflow_x": null,
            "overflow_y": null,
            "padding": null,
            "right": null,
            "top": null,
            "visibility": null,
            "width": null
          }
        },
        "97aa1d901814447c823810b36a553dc2": {
          "model_module": "@jupyter-widgets/controls",
          "model_name": "ProgressStyleModel",
          "model_module_version": "1.5.0",
          "state": {
            "_model_module": "@jupyter-widgets/controls",
            "_model_module_version": "1.5.0",
            "_model_name": "ProgressStyleModel",
            "_view_count": null,
            "_view_module": "@jupyter-widgets/base",
            "_view_module_version": "1.2.0",
            "_view_name": "StyleView",
            "bar_color": null,
            "description_width": ""
          }
        },
        "a4e6e9f31b7847409db185ddb1d528db": {
          "model_module": "@jupyter-widgets/base",
          "model_name": "LayoutModel",
          "model_module_version": "1.2.0",
          "state": {
            "_model_module": "@jupyter-widgets/base",
            "_model_module_version": "1.2.0",
            "_model_name": "LayoutModel",
            "_view_count": null,
            "_view_module": "@jupyter-widgets/base",
            "_view_module_version": "1.2.0",
            "_view_name": "LayoutView",
            "align_content": null,
            "align_items": null,
            "align_self": null,
            "border": null,
            "bottom": null,
            "display": null,
            "flex": null,
            "flex_flow": null,
            "grid_area": null,
            "grid_auto_columns": null,
            "grid_auto_flow": null,
            "grid_auto_rows": null,
            "grid_column": null,
            "grid_gap": null,
            "grid_row": null,
            "grid_template_areas": null,
            "grid_template_columns": null,
            "grid_template_rows": null,
            "height": null,
            "justify_content": null,
            "justify_items": null,
            "left": null,
            "margin": null,
            "max_height": null,
            "max_width": null,
            "min_height": null,
            "min_width": null,
            "object_fit": null,
            "object_position": null,
            "order": null,
            "overflow": null,
            "overflow_x": null,
            "overflow_y": null,
            "padding": null,
            "right": null,
            "top": null,
            "visibility": null,
            "width": null
          }
        },
        "e49ea37ed6774f5b8197dd2d06d907d6": {
          "model_module": "@jupyter-widgets/controls",
          "model_name": "DescriptionStyleModel",
          "model_module_version": "1.5.0",
          "state": {
            "_model_module": "@jupyter-widgets/controls",
            "_model_module_version": "1.5.0",
            "_model_name": "DescriptionStyleModel",
            "_view_count": null,
            "_view_module": "@jupyter-widgets/base",
            "_view_module_version": "1.2.0",
            "_view_name": "StyleView",
            "description_width": ""
          }
        }
      }
    }
  },
  "nbformat": 4,
  "nbformat_minor": 0
}